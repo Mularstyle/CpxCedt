{
 "cells": [
  {
   "cell_type": "code",
   "execution_count": 20,
   "id": "104e31f4",
   "metadata": {},
   "outputs": [
    {
     "data": {
      "image/png": "[encoded data removed]",
      "text/plain": [
       "<Figure size 300x1000 with 1 Axes>"
      ]
     },
     "metadata": {},
     "output_type": "display_data"
    },
    {
     "name": "stdout",
     "output_type": "stream",
     "text": [
      "✅ Saved cipher table image as 'cipher_table.png'\n",
      "✅ Saved cipher table as 'cipher_table.json'\n",
      "\n",
      "🔹 Original Message: HELLO WORLD\n",
      "🔹 Encrypted Text  : PFNNM IMTNW\n",
      "🔹 Decrypted Text  : HELLO WORLD\n"
     ]
    }
   ],
   "source": [
    "# 🔹 Substitution Cipher Generator with Table Image & JSON Export\n",
    "import string\n",
    "import random\n",
    "import pandas as pd\n",
    "import matplotlib.pyplot as plt\n",
    "import json\n",
    "\n",
    "# -------------------------------\n",
    "# 1️⃣ สร้างตาราง Substitution Cipher แบบสุ่ม\n",
    "# -------------------------------\n",
    "def generate_cipher_table():\n",
    "    letters = list(string.ascii_uppercase)\n",
    "    shuffled = letters.copy()\n",
    "    random.shuffle(shuffled)\n",
    "    cipher_table = dict(zip(letters, shuffled))\n",
    "    return cipher_table\n",
    "\n",
    "# -------------------------------\n",
    "# 2️⃣ ฟังก์ชันเข้ารหัส / ถอดรหัส\n",
    "# -------------------------------\n",
    "def encrypt(message, cipher_table):\n",
    "    return \"\".join(cipher_table.get(ch, ch) for ch in message.upper())\n",
    "\n",
    "def decrypt(cipher_text, cipher_table):\n",
    "    reverse_table = {v: k for k, v in cipher_table.items()}\n",
    "    return \"\".join(reverse_table.get(ch, ch) for ch in cipher_text.upper())\n",
    "\n",
    "# -------------------------------\n",
    "# 3️⃣ ฟังก์ชันแสดงและบันทึกภาพตาราง\n",
    "# -------------------------------\n",
    "def save_cipher_table_image(cipher_table, filename=\"cipher_table.png\"):\n",
    "    df = pd.DataFrame({\n",
    "        \"Plain\": list(cipher_table.keys()),\n",
    "        \"Cipher\": list(cipher_table.values())\n",
    "    })\n",
    "\n",
    "    fig, ax = plt.subplots(figsize=(3, 10))\n",
    "    ax.axis('tight')\n",
    "    ax.axis('off')\n",
    "    table = ax.table(\n",
    "        cellText=df.values,\n",
    "        colLabels=df.columns,\n",
    "        loc='center',\n",
    "        cellLoc='center'\n",
    "    )\n",
    "\n",
    "    table.auto_set_font_size(False)\n",
    "    table.set_fontsize(12)\n",
    "    table.scale(1.2, 1.2)\n",
    "    plt.subplots_adjust(left=0, right=1, top=1, bottom=0)  # Remove padding\n",
    "    #plt.title(\"Substitution Cipher Table\", fontsize=14, pad=1)\n",
    "    plt.savefig(filename, bbox_inches='tight', dpi=200)\n",
    "    plt.show()\n",
    "    print(f\"✅ Saved cipher table image as '{filename}'\")\n",
    "\n",
    "# -------------------------------\n",
    "# 4️⃣ ฟังก์ชันบันทึกตารางเป็น JSON\n",
    "# -------------------------------\n",
    "def save_cipher_table_json(cipher_table, filename=\"cipher_table.json\"):\n",
    "    with open(filename, \"w\", encoding=\"utf-8\") as f:\n",
    "        json.dump(cipher_table, f, indent=4)\n",
    "    print(f\"✅ Saved cipher table as '{filename}'\")\n",
    "\n",
    "# -------------------------------\n",
    "# 🧩 ตัวอย่างการใช้งาน\n",
    "# -------------------------------\n",
    "cipher_table = generate_cipher_table()\n",
    "\n",
    "# แสดงและบันทึกตารางโดยไม่มีพื้นที่ว่างรอบตาราง\n",
    "def save_cipher_table_image(cipher_table, filename=\"cipher_table.png\"):\n",
    "   df = pd.DataFrame({\n",
    "      \"Plain\": list(cipher_table.keys()),\n",
    "      \"Cipher\": list(cipher_table.values())\n",
    "   })\n",
    "\n",
    "   fig, ax = plt.subplots(figsize=(3, 10))\n",
    "   ax.axis('tight')\n",
    "   ax.axis('off')\n",
    "   table = ax.table(\n",
    "      cellText=df.values,\n",
    "      colLabels=df.columns,\n",
    "      loc='center',\n",
    "      cellLoc='center'\n",
    "   )\n",
    "\n",
    "   table.auto_set_font_size(False)\n",
    "   table.set_fontsize(12)\n",
    "   table.scale(1.2, 1.2)\n",
    "\n",
    "   plt.subplots_adjust(left=0, right=1, top=1, bottom=0)  # Remove padding\n",
    "   plt.savefig(filename, bbox_inches='tight', dpi=200)\n",
    "   plt.show()\n",
    "   print(f\"✅ Saved cipher table image as '{filename}'\")\n",
    "save_cipher_table_image(cipher_table)\n",
    "save_cipher_table_json(cipher_table)\n",
    "\n",
    "# ตัวอย่างเข้ารหัส / ถอดรหัส\n",
    "message = \"HELLO WORLD\"\n",
    "cipher_text = encrypt(message, cipher_table)\n",
    "decrypted_text = decrypt(cipher_text, cipher_table)\n",
    "\n",
    "print(\"\\n🔹 Original Message:\", message)\n",
    "print(\"🔹 Encrypted Text  :\", cipher_text)\n",
    "print(\"🔹 Decrypted Text  :\", decrypted_text)\n"
   ]
  },
  {
   "cell_type": "code",
   "execution_count": 2,
   "id": "abab0d29",
   "metadata": {},
   "outputs": [
    {
     "name": "stdout",
     "output_type": "stream",
     "text": [
      "\n",
      "🔹 Original Message: HELLO WORLD\n",
      "🔹 Encrypted Text  : VNJJQ ZQCJM\n",
      "🔹 Decrypted Text  : HELLO WORLD\n"
     ]
    }
   ],
   "source": [
    "message = \"HELLO WORLD\"\n",
    "cipher_text = encrypt(message, cipher_table)\n",
    "decrypted_text = decrypt(cipher_text, cipher_table)\n",
    "\n",
    "print(\"\\n🔹 Original Message:\", message)\n",
    "print(\"🔹 Encrypted Text  :\", cipher_text)\n",
    "print(\"🔹 Decrypted Text  :\", decrypted_text)"
   ]
  }
 ],
 "metadata": {
  "kernelspec": {
   "display_name": "Python 3",
   "language": "python",
   "name": "python3"
  },
  "language_info": {
   "codemirror_mode": {
    "name": "ipython",
    "version": 3
   },
   "file_extension": ".py",
   "mimetype": "text/x-python",
   "name": "python",
   "nbconvert_exporter": "python",
   "pygments_lexer": "ipython3",
   "version": "3.12.3"
  }
 },
 "nbformat": 4,
 "nbformat_minor": 5
}
